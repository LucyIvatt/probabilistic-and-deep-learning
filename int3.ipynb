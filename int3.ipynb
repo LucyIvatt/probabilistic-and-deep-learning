{
 "cells": [
  {
   "cell_type": "markdown",
   "metadata": {},
   "source": [
    "# Intelligent Systems 3: Probabilistic and Deep Learning"
   ]
  },
  {
   "cell_type": "markdown",
   "metadata": {},
   "source": [
    "### Question 1: Regression and classification (42 marks)\n",
    "1. Train and evaluate a least squares linear regression model predicting the value of\n",
    "variable D from variables A, B and C."
   ]
  },
  {
   "cell_type": "code",
   "execution_count": 70,
   "metadata": {},
   "outputs": [],
   "source": [
    "# This line is needed to use matplotlib in Jupyter notebook\n",
    "%matplotlib inline\n",
    "import numpy as np\n",
    "from sklearn import linear_model\n",
    "from sklearn.metrics import mean_squared_error, r2_score\n",
    "from sklearn.preprocessing import scale, normalize\n",
    "import pandas as pd\n",
    "import matplotlib.pyplot as plt\n",
    "from copy import deepcopy\n",
    "from sklearn.linear_model import LogisticRegression\n",
    "from sklearn.model_selection import cross_val_score"
   ]
  },
  {
   "cell_type": "code",
   "execution_count": 73,
   "metadata": {},
   "outputs": [],
   "source": [
    "def least_squares_regression(data, train_size, v=0):\n",
    "    \"\"\"Runs linear least squares regression on the data. \n",
    "    Normalises and scales the data if specified.\"\"\"\n",
    "    # Creates a copy of the data so the original data is not modified by the function\n",
    "    data = deepcopy(data)\n",
    "    print(data[4, :])\n",
    "    \n",
    "    match v:\n",
    "        case 1:\n",
    "            # axis=0 normalises the data by column (by feature)\n",
    "            data = normalize(data, axis=0)\n",
    "        case 2:\n",
    "            data = scale(data)\n",
    "        case 3:\n",
    "            # axis=0 normalises the data by column (by feature)\n",
    "            data = normalize(data, axis=0)\n",
    "            data = scale(data)\n",
    "    \n",
    "    print(data[4, :])\n",
    "    \n",
    "    # Shuffles the data but always in the same way to valid comparisons of models\n",
    "    np.random.seed(20)\n",
    "    np.random.shuffle(data)\n",
    "\n",
    "    # separates D as the target variable\n",
    "    X, y= data[:,:-1], data[:,-1]\n",
    "\n",
    "    # Split the data into training/testing sets\n",
    "    X_train, X_test = X[:-train_size], X[-train_size:]\n",
    "\n",
    "    # Split the targets into training/testing sets\n",
    "    y_train, y_test = y[:-train_size], y[-train_size:]\n",
    "\n",
    "    # Create linear regression object\n",
    "    regr = linear_model.LinearRegression()\n",
    "\n",
    "    # Train the model using the training sets\n",
    "    regr.fit(X_train, y_train)\n",
    "\n",
    "    # Make predictions using the testing set\n",
    "    y_pred = regr.predict(X_test)\n",
    "\n",
    "    # The coefficients\n",
    "    print(\"Coefficients of A, B & C:\", regr.coef_)\n",
    "\n",
    "    # The mean squared error\n",
    "    print('Mean squared error: %.2f'\n",
    "        % mean_squared_error(y_test, y_pred))\n",
    "\n",
    "    # The coefficient of determination: \n",
    "    #   1 is perfect prediction\n",
    "    #   0 is as good as always predicting the mean output value (using the training data).\n",
    "    #   negative values are for a model that is worse than just predicting the mean.\n",
    "    print('Coefficient of determination (R2): %.2f'\n",
    "        % r2_score(y_test, y_pred))\n",
    "\n",
    "# Imports the data for question 1 and 2\n",
    "DATA = data = np.genfromtxt('data.csv', delimiter=',', skip_header=1, dtype=float)"
   ]
  },
  {
   "cell_type": "code",
   "execution_count": 74,
   "metadata": {},
   "outputs": [
    {
     "name": "stdout",
     "output_type": "stream",
     "text": [
      "-------------------------------- QUESTION 1 (a) --------------------------------\n",
      "[ 0.457 10.778  0.569  0.876]\n",
      "[ 0.457 10.778  0.569  0.876]\n",
      "Coefficients of A, B & C: [0.10316451 0.16344041 0.11707433]\n",
      "Mean squared error: 0.32\n",
      "Coefficient of determination (R2): 0.85\n",
      "\n",
      "Cross-Validation Accuracy:\n",
      "min=69.93%\n",
      "max=95.63000000000001%\n",
      "mean=85.24000000000001%\n",
      "std=8.03%\n",
      "----------------------------------------------------------------------------\n"
     ]
    }
   ],
   "source": [
    "print(\"-\" * 32 + \" QUESTION 1 (a) \" + \"-\" * 32)\n",
    "least_squares_regression(data=DATA, train_size=75)\n",
    "print(\"-\" * 76)"
   ]
  },
  {
   "cell_type": "markdown",
   "metadata": {},
   "source": [
    "2. Repeat the above task after carrying out in turn data normalisation, data scaling and\n",
    "their combination, and evaluate the benefits of each of these 3 types of data preprocessing."
   ]
  },
  {
   "cell_type": "code",
   "execution_count": 75,
   "metadata": {},
   "outputs": [
    {
     "name": "stdout",
     "output_type": "stream",
     "text": [
      "-------------------------------- QUESTION 1 (b)--------------------------------\n",
      "Data Normalisation:\n",
      "[ 0.457 10.778  0.569  0.876]\n",
      "[0.00755435 0.05751582 0.00823696 0.02026324]\n",
      "Coefficients of A, B & C: [ 1.49927529e+12  2.21545581e+13 -1.29099233e+13]\n",
      "Mean squared error: 0.00\n",
      "Coefficient of determination (R2): 0.85\n",
      "\n",
      "Cross-Validation Accuracy:\n",
      "min=69.61%\n",
      "max=95.59%\n",
      "mean=85.2%\n",
      "std=8.09%\n",
      "----------------------------------------------------------------------------\n",
      "Data scaling\n",
      "[ 0.457 10.778  0.569  0.876]\n",
      "[-1.60930594 -1.60930594 -1.60930594 -2.13693719]\n",
      "Coefficients of A, B & C: [0.32936784 0.32936784 0.32936784]\n",
      "Mean squared error: 0.13\n",
      "Coefficient of determination (R2): 0.85\n",
      "\n",
      "Cross-Validation Accuracy:\n",
      "min=70.63000000000001%\n",
      "max=95.00999999999999%\n",
      "mean=85.24000000000001%\n",
      "std=7.76%\n",
      "----------------------------------------------------------------------------\n",
      "Norm -> Scale\n",
      "[ 0.457 10.778  0.569  0.876]\n",
      "[-1.60930594 -1.60930594 -1.60930594 -2.13693719]\n",
      "Coefficients of A, B & C: [0.32936784 0.32936784 0.32936784]\n",
      "Mean squared error: 0.13\n",
      "Coefficient of determination (R2): 0.85\n",
      "\n",
      "Cross-Validation Accuracy:\n",
      "min=70.63000000000001%\n",
      "max=95.00999999999999%\n",
      "mean=84.99%\n",
      "std=7.7%\n",
      "----------------------------------------------------------------------------\n"
     ]
    }
   ],
   "source": [
    "print(\"-\" * 32 + \" QUESTION 1 (b)\" + \"-\" * 32)\n",
    "\n",
    "# 1. Performs Data Normalisation\n",
    "print(\"Data Normalisation:\")\n",
    "least_squares_regression(data=DATA, train_size=75, v=1)\n",
    "print(\"-\" * 76)\n",
    "\n",
    "# 2. Performs Data Scaling\n",
    "print(\"Data scaling\")\n",
    "least_squares_regression(data=DATA, train_size=75, v=2)\n",
    "print(\"-\" * 76)\n",
    "\n",
    "# 3. Performs Data Normalisation and Data Scaling\n",
    "print(\"Norm -> Scale\")\n",
    "least_squares_regression(data=DATA, train_size=75, v=3)\n",
    "print(\"-\" * 76)"
   ]
  },
  {
   "attachments": {},
   "cell_type": "markdown",
   "metadata": {},
   "source": [
    "https://stats.stackexchange.com/questions/562888/why-not-both-standardize-and-normalize-features-for-machine-learning\n",
    "\n",
    "Standard -> Norm\n",
    "That is equivalent to normalizing only X since the standardization step does not change the min/max values. Besides, these transformations are not associated with normality assumption.\n",
    "\n",
    "Norm -> Standard\n",
    "If you did the transforms in the opposite order \"normalize\" then \"standardize\" you would get the same as just \"standardize\". Both are location-scale transformations\n",
    "\n",
    "You should realise that an error measure like MSE is relative. You get a lower MSE after normalising probably because the actual values in y_test and preds are way larger."
   ]
  },
  {
   "attachments": {},
   "cell_type": "markdown",
   "metadata": {},
   "source": [
    "3. Try to outperform the best result of the previous step by using regularisation (e.g. L1,\n",
    "L2 or Elastic Net). Show how any parameter values are tuned and evaluate the benefits of\n",
    "regularisation."
   ]
  },
  {
   "attachments": {},
   "cell_type": "markdown",
   "metadata": {},
   "source": [
    "4. Add a set of suitable basis functions to the original data and train a linear regression\n",
    "with an appropriate type of regularisation to find out which of the new basis functions bring\n",
    "benefits. Explain briefly (in no more than 4 sentences) your reasoning."
   ]
  },
  {
   "attachments": {},
   "cell_type": "markdown",
   "metadata": {},
   "source": [
    "5. Implement an appropriate automated procedure that will train all of the above models\n",
    "and select the model expected to perform best on unseen data with the same distribution as your\n",
    "training data. You need to include a code tile at the end of this section of your Jupyter notebook\n",
    "that attempts to test your final choice of model on a data set stored in a file unseendata.csv\n",
    "and compute $R^2$ for it. The file will have exactly the same format as file data.csv, including\n",
    "the header, but possibly a different overall number of rows. This means you can use a renamed\n",
    "copy of data.csv to debug that part of your code, and to produce the corresponding content\n",
    "for your PDF file (in order to demonstrate that this part of the code is in working order).\n"
   ]
  },
  {
   "attachments": {},
   "cell_type": "markdown",
   "metadata": {},
   "source": [
    "6. Starting with the data in data.csv, find the median value of variable D. Replace all\n",
    "values up to and including the median value with 0, and all values greater than that with 1. Treat\n",
    "the resulting values of D as class labels to train and evaluate a classifier based on logistic\n",
    "regression that takes variables A, B and C as input."
   ]
  },
  {
   "cell_type": "code",
   "execution_count": null,
   "metadata": {},
   "outputs": [],
   "source": [
    "np.set_printoptions(suppress=True)\n",
    "np.random.seed(2)\n",
    "train_size = 75\n",
    "\n",
    "# Loads the dataset (skipping the headers) and shuffles the data.\n",
    "data = np.genfromtxt('data.csv', delimiter=',', skip_header=1, dtype=float)\n",
    "np.random.shuffle(data)\n",
    "\n",
    "# Replaces the last column with 1 if the value is greater than the median, 0 otherwise.\n",
    "median = np.median(data[:, 3])\n",
    "data[:, 3] = np.where(data[:, 3] > median, 1, 0)\n",
    "\n",
    "# separates D as the class variable\n",
    "X = data[:,:-1]\n",
    "y = data[:,-1]\n",
    "\n",
    "# Split the data into training/testing sets\n",
    "X_train = X[:-train_size]\n",
    "X_test = X[-train_size:]\n",
    "\n",
    "# Split the classifications into training/testing sets\n",
    "y_train = y[:-train_size]\n",
    "y_test = y[-train_size:]\n",
    "\n",
    "# Runs logistic regression\n",
    "logisticRegr = LogisticRegression()\n",
    "logisticRegr.fit(X_train, y_train)\n",
    "\n",
    "predictions = logisticRegr.predict(X_test)\n",
    "probability_predictions = logisticRegr.predict_proba(X_test)\n",
    "\n",
    "# Shows first 5 predictions\n",
    "print(\"First 5 example predictions:\")\n",
    "for i in range(5):\n",
    "    print(\"Predicted class:\", predictions[i], \n",
    "            \"(Probability:\" + str(probability_predictions[i][int(predictions[i])].round(4)) + \")\")\n",
    "\n",
    "# Use score method to get out of sample accuracy of the model (2 decimal places)\n",
    "\n",
    "score = logisticRegr.score(X_test, y_test)\n",
    "print(\"\\nOut of sample accuracy = \" + str(score.round(2)*100) + \"%\")\n",
    "\n",
    "# Test of generalisation (10-fold cross-validation)\n",
    "scores = cross_val_score(logisticRegr, X, y, cv=10)\n",
    "\n",
    "print(\"\\nCross-Validation Accuracy:\")\n",
    "print(\"min=\" + str(scores.min().round(4)*100) + \"%\\n\" +\n",
    "        \"max=\" + str(scores.max().round(4)*100) + \"%\\n\" +\n",
    "        \"mean=\" + str(scores.mean().round(4)*100) + \"%\\n\" +\n",
    "        \"std=\" + str(scores.std().round(4)*100) + \"%\")"
   ]
  },
  {
   "attachments": {},
   "cell_type": "markdown",
   "metadata": {},
   "source": [
    "# Question 2: Principal Component Analysis (8 marks)\n",
    "Starting with the same data.csv file from Q1, extend the table with 6 additional columns\n",
    "consisting of the product of each pair of the original 4 variables A, B, C and D.\n",
    "Apply principal component analysis (PCA) with a number of principal components (PCs) equal to\n",
    "the number of original variables, i.e. p = 4. Label the resulting principal components in\n",
    "decreasing order of variance as PC1. . .PC4 and list the linear equations showing how each of\n",
    "them is calculated from the 10 input variables. Describe which variables affect most strongly\n",
    "each of the 4 principal components, highlighting any notable findings and providing plausible\n",
    "explanations for them."
   ]
  },
  {
   "cell_type": "code",
   "execution_count": null,
   "metadata": {},
   "outputs": [],
   "source": [
    "from sklearn.decomposition import PCA\n",
    "from itertools import combinations\n",
    "\n",
    "data = np.loadtxt('data.csv',delimiter=',',skiprows=1)\n",
    "scaler = StandardScaler()\n",
    "scaler.fit(data)\n",
    "scaled_data = scaler.transform(data)\n",
    "\n",
    "# extend the table with 6 additional column consisting of the product of each pair of the original 4 variables A, B, C and D\n",
    "for i, j in combinations(range(4), 2):\n",
    "    scaled_data = np.hstack((scaled_data, np.atleast_2d(np.multiply(scaled_data[:, i], scaled_data[:, j])).T))\n",
    "\n",
    "\n",
    "pca = PCA(n_components=4)\n",
    "pca.fit(scaled_data)\n",
    "newData = pca.fit_transform(scaled_data)\n",
    "\n",
    "NewTotVar = 0\n",
    "for i, dim in enumerate(('PC1','PC2','PC3','PC4')):\n",
    "  Var2 = np.var(newData[:,i])\n",
    "  NewTotVar += Var2\n",
    "\n",
    "  print('Here is the sample variance for the {0} dimension'.format(dim))\n",
    "  \n",
    "  print('var = {0}\\n\\n'.format(Var2))\n"
   ]
  },
  {
   "cell_type": "code",
   "execution_count": null,
   "metadata": {},
   "outputs": [],
   "source": []
  }
 ],
 "metadata": {
  "kernelspec": {
   "display_name": "Python 3.10.8 64-bit",
   "language": "python",
   "name": "python3"
  },
  "language_info": {
   "codemirror_mode": {
    "name": "ipython",
    "version": 3
   },
   "file_extension": ".py",
   "mimetype": "text/x-python",
   "name": "python",
   "nbconvert_exporter": "python",
   "pygments_lexer": "ipython3",
   "version": "3.10.8"
  },
  "orig_nbformat": 4,
  "vscode": {
   "interpreter": {
    "hash": "97cc609b13305c559618ec78a438abc56230b9381f827f22d070313b9a1f3777"
   }
  }
 },
 "nbformat": 4,
 "nbformat_minor": 2
}
