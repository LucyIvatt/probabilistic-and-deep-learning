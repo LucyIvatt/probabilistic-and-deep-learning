{
 "cells": [
  {
   "cell_type": "markdown",
   "metadata": {},
   "source": [
    "# Intelligent Systems 3: Probabilistic and Deep Learning"
   ]
  },
  {
   "attachments": {},
   "cell_type": "markdown",
   "metadata": {},
   "source": [
    "### Question 1: Regression and classification (42 marks)\n",
    "a. Train and evaluate a least squares linear regression model predicting the value of\n",
    "variable D from variables A, B and C."
   ]
  },
  {
   "cell_type": "code",
   "execution_count": null,
   "metadata": {},
   "outputs": [],
   "source": [
    "# This line is needed to use matplotlib in Jupyter notebook\n",
    "%matplotlib inline\n",
    "import numpy as np\n",
    "from sklearn import linear_model\n",
    "from sklearn.metrics import mean_squared_error, r2_score\n",
    "from sklearn.preprocessing import scale, normalize\n",
    "import pandas as pd\n",
    "import matplotlib.pyplot as plt\n",
    "from copy import deepcopy\n",
    "from sklearn.linear_model import LogisticRegression\n",
    "from sklearn.model_selection import cross_val_score\n",
    "np.set_printoptions(suppress=True)\n",
    "\n",
    "def split_data(data, train_size):\n",
    "    # Shuffles the data but always in the same way to valid comparisons of models\n",
    "    np.random.seed(10)\n",
    "    np.random.shuffle(data)\n",
    "\n",
    "    # separates D as the target variable\n",
    "    X, y = data[:,:-1], data[:,-1]\n",
    "\n",
    "    # Splits the data into training and test sets\n",
    "    X_train, X_test = X[:-train_size], X[-train_size:]\n",
    "    y_train, y_test = y[:-train_size], y[-train_size:]\n",
    "    return X_train, X_test, y_train, y_test, X, y"
   ]
  },
  {
   "cell_type": "code",
   "execution_count": null,
   "metadata": {},
   "outputs": [],
   "source": [
    "def least_squares_regression(data, train_size, v=0):\n",
    "    \"\"\"Runs linear least squares regression on the data. \n",
    "    Normalises and scales the data if specified.\n",
    "    v=0 no preprocessing, v=1 normalise, v=2 scale, v=3 normalise and scale.\"\"\"\n",
    "\n",
    "    # Creates a copy of the data so the original data is not modified by the function\n",
    "    data = deepcopy(data)\n",
    "    \n",
    "    match v:\n",
    "        case 1:\n",
    "            data = normalize(data, axis=0) # axis=0 normalises the data by feature\n",
    "        case 2:\n",
    "            data = scale(data)\n",
    "        case 3:\n",
    "            data = normalize(data, axis=0) # axis=0 normalises the data by feature\n",
    "            data = scale(data)\n",
    "    \n",
    "    # Splits the data into training and test sets\n",
    "    X_train, X_test, y_train, y_test, _, _ = split_data(data, train_size)\n",
    "\n",
    "    # Train model and make predictions\n",
    "    regr = linear_model.LinearRegression()\n",
    "    regr.fit(X_train, y_train)\n",
    "    y_pred = regr.predict(X_test)\n",
    "\n",
    "    # Prints the results\n",
    "    print(\"Coefficients of A, B & C:\", regr.coef_)\n",
    "    print('Mean squared error: %.2f'\n",
    "        % mean_squared_error(y_test, y_pred))\n",
    "    print('Coefficient of determination (R2): %.2f'\n",
    "        % r2_score(y_test, y_pred))\n",
    "\n",
    "# Imports the data for question 1 and 2\n",
    "DATA = data = np.genfromtxt('data.csv', delimiter=',', skip_header=1, dtype=float)"
   ]
  },
  {
   "cell_type": "code",
   "execution_count": null,
   "metadata": {},
   "outputs": [],
   "source": [
    "print(\"-\" * 32 + \" QUESTION 1 (a) \" + \"-\" * 32)\n",
    "least_squares_regression(data=DATA, train_size=75)\n",
    "print(\"-\" * 76)"
   ]
  },
  {
   "attachments": {},
   "cell_type": "markdown",
   "metadata": {},
   "source": [
    "b. Repeat the above task after carrying out in turn data normalisation, data scaling and\n",
    "their combination, and evaluate the benefits of each of these 3 types of data preprocessing."
   ]
  },
  {
   "cell_type": "code",
   "execution_count": null,
   "metadata": {},
   "outputs": [],
   "source": [
    "print(\"-\" * 32 + \" QUESTION 1 (b) \" + \"-\" * 32)\n",
    "\n",
    "# 1. Performs Data Normalisation\n",
    "print(\"Data Normalisation:\")\n",
    "least_squares_regression(data=DATA, train_size=75, v=1)\n",
    "print(\"-\" * 76)\n",
    "\n",
    "# 2. Performs Data Scaling\n",
    "print(\"Data scaling\")\n",
    "least_squares_regression(data=DATA, train_size=75, v=2)\n",
    "print(\"-\" * 76)\n",
    "\n",
    "# 3. Performs Data Normalisation and Data Scaling\n",
    "print(\"Norm then Scale\")\n",
    "least_squares_regression(data=DATA, train_size=75, v=3)\n",
    "print(\"-\" * 76)"
   ]
  },
  {
   "attachments": {},
   "cell_type": "markdown",
   "metadata": {},
   "source": [
    "\n",
    "The combination of the two (normalise then scale) gives the same outcome as just scaling. This is because both are location-scale transformations. \n",
    "\n",
    "\n",
    "You should realise that an error measure like MSE is relative. You get a lower MSE after normalising probably because the actual values in y_test and preds are way larger."
   ]
  },
  {
   "attachments": {},
   "cell_type": "markdown",
   "metadata": {},
   "source": [
    "c. Try to outperform the best result of the previous step by using regularisation (e.g. L1,\n",
    "L2 or Elastic Net). Show how any parameter values are tuned and evaluate the benefits of\n",
    "regularisation."
   ]
  },
  {
   "cell_type": "code",
   "execution_count": null,
   "metadata": {},
   "outputs": [],
   "source": [
    "from sklearn.linear_model import RidgeCV, LassoCV\n",
    "from sklearn.pipeline import Pipeline\n",
    "from sklearn.preprocessing import StandardScaler\n",
    "\n",
    "def regularisation(data, train_size):\n",
    "    # Creates a copy of the data so the original data is not modified by the function\n",
    "    data = deepcopy(data)\n",
    "\n",
    "    # Splits the data into training and test sets\n",
    "    X_train, X_test, y_train, y_test, X, y = split_data(data, train_size)\n",
    "\n",
    "    pipe = Pipeline([('Scaler', StandardScaler()), ('Ridge', RidgeCV(alphas=np.logspace(-6, 6, 13)))])\n",
    "    print('Testing complexity parameter values (i.e.alphas): ', np.logspace(-6, 6, 13))\n",
    "    pipe.fit(X_train, y_train)\n",
    "    y_pred = pipe.predict(X_test)\n",
    "\n",
    "    print('Cross-validation got this value for the complexity parameter: ', pipe.named_steps['Ridge'].alpha_)\n",
    "\n",
    "    for i, name in enumerate([\"A\", \"B\", \"C\"]):\n",
    "        print('Parameter for {0} is {1}'.format(name,pipe.named_steps['Ridge'].coef_[i]))\n",
    "    \n",
    "    print('Mean squared error: %.2f' % mean_squared_error(y_test, y_pred))\n",
    "    print('Coefficient of determination (R2): %.2f' % r2_score(y_test, y_pred))\n",
    "\n",
    "    # Test of generalisation (10-fold cross-validation)\n",
    "    scores = cross_val_score(pipe, X, y, cv=10)\n",
    "\n",
    "    print(\"\\nCross-Validation Accuracy:\")\n",
    "    print(\"min=\" + str(scores.min().round(4)*100) + \"%\\n\" +\n",
    "            \"max=\" + str(scores.max().round(4)*100) + \"%\\n\" +\n",
    "            \"mean=\" + str(scores.mean().round(4)*100) + \"%\\n\" +\n",
    "            \"std=\" + str(scores.std().round(4)*100) + \"%\")\n",
    "    print(\"\\n\\n\")\n",
    "\n",
    "print(\"-\" * 32 + \" QUESTION 1 (c) \" + \"-\" * 32)\n",
    "regularisation(data=DATA, train_size=75)\n",
    "print(\"-\" * 76)\n",
    "\n",
    "# its choosing a low value for alpha so showing that it doesnt have an effect really?\n"
   ]
  },
  {
   "attachments": {},
   "cell_type": "markdown",
   "metadata": {},
   "source": [
    "4. Add a set of suitable basis functions to the original data and train a linear regression\n",
    "with an appropriate type of regularisation to find out which of the new basis functions bring\n",
    "benefits. Explain briefly (in no more than 4 sentences) your reasoning.\n",
    "\n",
    "https://scikit-learn.org/stable/modules/generated/sklearn.preprocessing.PolynomialFeatures.html\n",
    "\n",
    "https://jakevdp.github.io/PythonDataScienceHandbook/05.06-linear-regression.html\n",
    "\n",
    "colab notebook example in week 5 lectures"
   ]
  },
  {
   "cell_type": "code",
   "execution_count": 50,
   "metadata": {},
   "outputs": [
    {
     "name": "stdout",
     "output_type": "stream",
     "text": [
      "-------------------------------- QUESTION 1 (d) --------------------------------\n",
      "Cross-validation got this value for the complexity parameter:  100.0\n",
      "Parameter for 1 (bias) is 0.0\n",
      "Parameter for A is 0.0001596185791835937\n",
      "Parameter for B is 0.00025287887263919506\n",
      "Parameter for C is 0.00018114018536565663\n",
      "Parameter for A^2 is -0.0012686883315849995\n",
      "Parameter for AB is -0.0004051410337876371\n",
      "Parameter for AC is -0.0014317055256297118\n",
      "Parameter for B^2 is 0.0019005886951444229\n",
      "Parameter for BC is -0.0004470262421084614\n",
      "Parameter for C^2 is -0.001615618264015961\n",
      "Parameter for A^3 is 0.00655774382475216\n",
      "Parameter for (A^2)B is -0.0023661436320647766\n",
      "Parameter for (A^2)C is 0.007378014919337428\n",
      "Parameter for A(B^2) is -0.007821892975950817\n",
      "Parameter for ABC is -0.002705586058811882\n",
      "Parameter for A(C^2) is 0.008300671227821521\n",
      "Parameter for B^3 is 0.006716509637648471\n",
      "Parameter for (B^2)C is -0.008780774728796459\n",
      "Parameter for B(C^2) is -0.0030929062652758077\n",
      "Parameter for C^3 is 0.009338464738362973\n",
      "Mean squared error: 0.23\n",
      "Coefficient of determination (R2): 0.90\n",
      "----------------------------------------------------------------------------\n"
     ]
    }
   ],
   "source": [
    "from sklearn.pipeline import make_pipeline\n",
    "from sklearn.preprocessing import PolynomialFeatures\n",
    "\n",
    "\n",
    "def polynomial_regression(data, train_size):\n",
    "    data = deepcopy(data)\n",
    "    \n",
    "    # splits the data into training and test sets\n",
    "    X_train, X_test, y_train, y_test, X, y = split_data(data, train_size)\n",
    "\n",
    "    pipe = Pipeline([(\"BasisFunctions\", PolynomialFeatures(3)), (\"RidgeCV\", RidgeCV(alphas=np.logspace(-6, 6, 13)))])\n",
    "    pipe.fit(X_train, y_train)\n",
    "    y_pred = pipe.predict(X_test)\n",
    "\n",
    "    print('Cross-validation got this value for the complexity parameter: ', pipe.named_steps['RidgeCV'].alpha_)\n",
    "    for i, name in enumerate([\"1 (bias)\", \"A\", \"B\", \"C\", \"A^2\", \"AB\", \"AC\", \"B^2\", \"BC\", \"C^2\", \"A^3\", \"(A^2)B\", \"(A^2)C\", \"A(B^2)\", \"ABC\", \"A(C^2)\", \"B^3\", \"(B^2)C\", \"B(C^2)\", \"C^3\"]):\n",
    "        print('Parameter for {0} is {1}'.format(name,pipe.named_steps['RidgeCV'].coef_[i]))\n",
    "    print('Mean squared error: %.2f' % mean_squared_error(y_test, y_pred))\n",
    "    print('Coefficient of determination (R2): %.2f' % r2_score(y_test, y_pred))\n",
    "\n",
    "print(\"-\" * 32 + \" QUESTION 1 (d) \" + \"-\" * 32)\n",
    "polynomial_regression(DATA, 75)\n",
    "print(\"-\" * 76)\n"
   ]
  },
  {
   "attachments": {},
   "cell_type": "markdown",
   "metadata": {},
   "source": [
    "5. Implement an appropriate automated procedure that will train all of the above models\n",
    "and select the model expected to perform best on unseen data with the same distribution as your\n",
    "training data. You need to include a code tile at the end of this section of your Jupyter notebook\n",
    "that attempts to test your final choice of model on a data set stored in a file unseendata.csv\n",
    "and compute $R^2$ for it. The file will have exactly the same format as file data.csv, including\n",
    "the header, but possibly a different overall number of rows. This means you can use a renamed\n",
    "copy of data.csv to debug that part of your code, and to produce the corresponding content\n",
    "for your PDF file (in order to demonstrate that this part of the code is in working order).\n"
   ]
  },
  {
   "attachments": {},
   "cell_type": "markdown",
   "metadata": {},
   "source": [
    "6. Starting with the data in data.csv, find the median value of variable D. Replace all\n",
    "values up to and including the median value with 0, and all values greater than that with 1. Treat\n",
    "the resulting values of D as class labels to train and evaluate a classifier based on logistic\n",
    "regression that takes variables A, B and C as input."
   ]
  },
  {
   "cell_type": "code",
   "execution_count": 55,
   "metadata": {},
   "outputs": [
    {
     "name": "stdout",
     "output_type": "stream",
     "text": [
      "-------------------------------- QUESTION f (d) --------------------------------\n",
      "First 5 example predictions:\n",
      "Predicted class: 0.0 (Probability:0.9875)\n",
      "Predicted class: 0.0 (Probability:0.9966)\n",
      "Predicted class: 1.0 (Probability:0.9894)\n",
      "Predicted class: 0.0 (Probability:0.8681)\n",
      "Predicted class: 0.0 (Probability:0.9659)\n",
      "\n",
      "Out of sample accuracy = 91.0%\n",
      "\n",
      "Cross-Validation Accuracy:\n",
      "min=66.67%\n",
      "max=100.0%\n",
      "mean=89.56%\n",
      "std=11.59%\n",
      "----------------------------------------------------------------------------\n"
     ]
    }
   ],
   "source": [
    "def logistic_regression(data, train_size):\n",
    "        # Replaces the last column with 1 if the value is greater than the median, 0 otherwise.\n",
    "        median = np.median(data[:, 3])\n",
    "        data[:, 3] = np.where(data[:, 3] > median, 1, 0)\n",
    "\n",
    "        # Splits the data into training and test sets\n",
    "        X_train, X_test, y_train, y_test, X, y = split_data(data, train_size)\n",
    "\n",
    "        # Runs logistic regression\n",
    "        logisticRegr = LogisticRegression()\n",
    "        logisticRegr.fit(X_train, y_train)\n",
    "\n",
    "        predictions = logisticRegr.predict(X_test)\n",
    "        probability_predictions = logisticRegr.predict_proba(X_test)\n",
    "\n",
    "        # Shows first 5 predictions\n",
    "        print(\"First 5 example predictions:\")\n",
    "        for i in range(5):\n",
    "                print(\"Predicted class:\", predictions[i], \n",
    "                        \"(Probability:\" + str(probability_predictions[i][int(predictions[i])].round(4)) + \")\")\n",
    "\n",
    "        # Use score method to get out of sample accuracy of the model (2 decimal places)\n",
    "\n",
    "        score = logisticRegr.score(X_test, y_test)\n",
    "        print(\"\\nOut of sample accuracy = \" + str(score.round(2)*100) + \"%\")\n",
    "\n",
    "        # Test of generalisation (10-fold cross-validation)\n",
    "        scores = cross_val_score(logisticRegr, X, y, cv=10)\n",
    "\n",
    "        print(\"\\nCross-Validation Accuracy (Test of generalisation):\")\n",
    "        print(\"min=\" + str(scores.min().round(4)*100) + \"%\\n\" +\n",
    "                \"max=\" + str(scores.max().round(4)*100) + \"%\\n\" +\n",
    "                \"mean=\" + str(scores.mean().round(4)*100) + \"%\\n\" +\n",
    "                \"std=\" + str(scores.std().round(4)*100) + \"%\")\n",
    "\n",
    "print(\"-\" * 32 + \" QUESTION f (d) \" + \"-\" * 32)\n",
    "logistic_regression(DATA, 75)\n",
    "print(\"-\" * 76)"
   ]
  },
  {
   "attachments": {},
   "cell_type": "markdown",
   "metadata": {},
   "source": [
    "# Question 2: Principal Component Analysis (8 marks)\n",
    "Starting with the same data.csv file from Q1, extend the table with 6 additional columns\n",
    "consisting of the product of each pair of the original 4 variables A, B, C and D.\n",
    "Apply principal component analysis (PCA) with a number of principal components (PCs) equal to\n",
    "the number of original variables, i.e. p = 4. Label the resulting principal components in\n",
    "decreasing order of variance as PC1. . .PC4 and list the linear equations showing how each of\n",
    "them is calculated from the 10 input variables. Describe which variables affect most strongly\n",
    "each of the 4 principal components, highlighting any notable findings and providing plausible\n",
    "explanations for them."
   ]
  },
  {
   "cell_type": "code",
   "execution_count": null,
   "metadata": {},
   "outputs": [],
   "source": [
    "from sklearn.decomposition import PCA\n",
    "from itertools import combinations\n",
    "\n",
    "data = np.loadtxt('data.csv',delimiter=',',skiprows=1)\n",
    "scaler = StandardScaler()\n",
    "scaler.fit(data)\n",
    "scaled_data = scaler.transform(data)\n",
    "\n",
    "# extend the table with 6 additional column consisting of the product of each pair of the original 4 variables A, B, C and D\n",
    "for i, j in combinations(range(4), 2):\n",
    "    scaled_data = np.hstack((scaled_data, np.atleast_2d(np.multiply(scaled_data[:, i], scaled_data[:, j])).T))\n",
    "\n",
    "\n",
    "pca = PCA(n_components=4)\n",
    "pca.fit(scaled_data)\n",
    "newData = pca.fit_transform(scaled_data)\n",
    "\n",
    "NewTotVar = 0\n",
    "for i, dim in enumerate(('PC1','PC2','PC3','PC4')):\n",
    "  Var2 = np.var(newData[:,i])\n",
    "  NewTotVar += Var2\n",
    "\n",
    "  print('Here is the sample variance for the {0} dimension'.format(dim))\n",
    "  \n",
    "  print('var = {0}\\n\\n'.format(Var2))\n"
   ]
  },
  {
   "cell_type": "code",
   "execution_count": null,
   "metadata": {},
   "outputs": [],
   "source": []
  }
 ],
 "metadata": {
  "kernelspec": {
   "display_name": "Python 3.10.8 64-bit",
   "language": "python",
   "name": "python3"
  },
  "language_info": {
   "codemirror_mode": {
    "name": "ipython",
    "version": 3
   },
   "file_extension": ".py",
   "mimetype": "text/x-python",
   "name": "python",
   "nbconvert_exporter": "python",
   "pygments_lexer": "ipython3",
   "version": "3.10.8"
  },
  "orig_nbformat": 4,
  "vscode": {
   "interpreter": {
    "hash": "97cc609b13305c559618ec78a438abc56230b9381f827f22d070313b9a1f3777"
   }
  }
 },
 "nbformat": 4,
 "nbformat_minor": 2
}
